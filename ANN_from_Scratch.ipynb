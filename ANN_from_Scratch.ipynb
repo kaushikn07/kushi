{
 "cells": [
  {
   "cell_type": "code",
   "execution_count": 1,
   "metadata": {
    "id": "S4_AgaXX6hA6"
   },
   "outputs": [],
   "source": [
    "import pandas as pd\n",
    "import numpy as np\n",
    "from sklearn.preprocessing import StandardScaler\n",
    "from sklearn.utils import shuffle\n",
    "from math import sqrt, exp\n",
    "from numpy.random import randn\n",
    "from sklearn.metrics import r2_score, mean_squared_error\n",
    "import matplotlib.pyplot as plt\n",
    "import tensorflow as tf"
   ]
  },
  {
   "cell_type": "code",
   "execution_count": 2,
   "metadata": {
    "id": "S4I6XUtRbgy5"
   },
   "outputs": [],
   "source": [
    "data_url = \"http://lib.stat.cmu.edu/datasets/boston\"\n",
    "raw_df = pd.read_csv(data_url, sep=\"\\s+\", skiprows=22, header=None)\n",
    "X = np.hstack([raw_df.values[::2, :], raw_df.values[1::2, :2]])\n",
    "Y = raw_df.values[1::2, 2]"
   ]
  },
  {
   "cell_type": "code",
   "execution_count": 3,
   "metadata": {
    "id": "BAUdro9cZx2e"
   },
   "outputs": [],
   "source": [
    "X, Y = shuffle(X, Y, random_state = 371)\n",
    "scaler = StandardScaler()\n",
    "X = scaler.fit_transform(X)"
   ]
  },
  {
   "cell_type": "code",
   "execution_count": 4,
   "metadata": {
    "id": "nrcSAIW4b7sH"
   },
   "outputs": [],
   "source": [
    "def He_WeightInit(prevNodes,curNodes):\n",
    "    std = sqrt(2.0/prevNodes)\n",
    "    W = []\n",
    "    for i in range(0,curNodes):\n",
    "        wi = randn(prevNodes)\n",
    "        wi = wi * std\n",
    "        W.append(wi)\n",
    "    W = np.array(W)\n",
    "    return W\n",
    "\n",
    "def LeakyReLU(x):\n",
    "    return max(x,0.01*x);\n",
    "\n",
    "def LeakyReLUderiv(x):\n",
    "    if(x >= 0):\n",
    "        return 1\n",
    "    return 0.01\n",
    "\n",
    "def Identity(x):\n",
    "    return x\n",
    "\n",
    "def IdentityDeriv(x):\n",
    "    return 1\n",
    "\n",
    "def Init_Bias(n):\n",
    "    b = [0.01 for i in range(0,n)]\n",
    "    b = np.array(b)\n",
    "    return b.reshape(-1,1)"
   ]
  },
  {
   "cell_type": "code",
   "execution_count": 5,
   "metadata": {
    "id": "EWyhvHYFji9K"
   },
   "outputs": [],
   "source": [
    "def BuildNeuralNetwork(X, Y, HiddenLayers, OutputLayer, Iterations, LearningRate):\n",
    "    InitialDim = len(X[0])\n",
    "    W = []\n",
    "    W.append([])\n",
    "    B = []\n",
    "    B.append([])\n",
    "    for i in range(0, len(HiddenLayers)):\n",
    "        if (i == 0):\n",
    "            W.append(He_WeightInit(InitialDim, HiddenLayers[i]))\n",
    "        else:\n",
    "            W.append(He_WeightInit(HiddenLayers[i-1], HiddenLayers[i]))\n",
    "        B.append(Init_Bias(HiddenLayers[i]))\n",
    "    W.append(He_WeightInit(HiddenLayers[len(HiddenLayers)-1], OutputLayer))\n",
    "    B.append(Init_Bias(OutputLayer))\n",
    "    lReLU = np.vectorize(LeakyReLU)\n",
    "    lReLUderiv = np.vectorize(LeakyReLUderiv)\n",
    "    Idt = np.vectorize(Identity)\n",
    "    idtderiv = np.vectorize(IdentityDeriv)\n",
    "    scores = []\n",
    "    iteration = []\n",
    "    for iter in range(1, Iterations+1):\n",
    "        ypredict = []\n",
    "        dW = [np.zeros_like(w) for w in W]\n",
    "        dB = [np.zeros_like(b) for b in B]\n",
    "        for dataidx in range(0, len(X)):\n",
    "            # Forward Propagation\n",
    "            x = X[dataidx].reshape(-1, 1)\n",
    "            Z = []\n",
    "            A = []\n",
    "            Z.append(x)\n",
    "            A.append(x)\n",
    "            for layer in range(1, len(W)):\n",
    "                Wi = W[layer]\n",
    "                Zi = np.add(np.dot(Wi, x), B[layer])\n",
    "                Z.append(Zi)\n",
    "                if layer == (len(W) - 1):\n",
    "                    Ai = Idt(Zi)\n",
    "                else:\n",
    "                    Ai = lReLU(Zi)\n",
    "                A.append(Ai)\n",
    "                x = Ai\n",
    "            ypredict.append(x[0])\n",
    "\n",
    "            # Back Propagation\n",
    "            dZ = np.subtract(x, Y[dataidx])\n",
    "            for layer in range(len(W) - 1, 0, -1):\n",
    "                dW[layer] += np.dot(dZ, A[layer - 1].T)\n",
    "                dB[layer] += dZ\n",
    "                if layer > 1:\n",
    "                    dZ = np.dot(W[layer].T, dZ) * lReLUderiv(Z[layer - 1])\n",
    "\n",
    "        # Weight & Bias Adjustment\n",
    "        for layer in range(1, len(W)):\n",
    "            W[layer] -= LearningRate * (dW[layer] / len(X))\n",
    "            B[layer] -= LearningRate * (dB[layer] / len(X))\n",
    "\n",
    "        # Calculating Metrics\n",
    "        ypredict = np.array(ypredict)\n",
    "        scores.append(r2_score(Y, ypredict))\n",
    "        iteration.append(iter)\n",
    "        if (iter % 10) == 0:\n",
    "            print(\"Iteration (\" + str(iter) + \"): Accuracy = \" + str(scores[len(scores)-1]) + \", Loss = \" + str(mean_squared_error(Y, ypredict)))\n",
    "    plt.plot(iteration, scores, color='green', marker='o', linestyle='dashed',linewidth=2, markersize=2)\n",
    "    plt.xlabel('Iteration')\n",
    "    plt.ylabel('Score')\n",
    "    return W, B\n"
   ]
  },
  {
   "cell_type": "code",
   "execution_count": 6,
   "metadata": {
    "colab": {
     "base_uri": "https://localhost:8080/",
     "height": 796
    },
    "id": "ZDkSflQBPZ0W",
    "outputId": "7f14cdb3-820a-4927-adff-bbf6143ef863"
   },
   "outputs": [
    {
     "name": "stdout",
     "output_type": "stream",
     "text": [
      "Iteration (10): Accuracy = 0.29288184716344823, Loss = 59.69460061242933\n",
      "Iteration (20): Accuracy = 0.4626824510593909, Loss = 45.360108996484975\n",
      "Iteration (30): Accuracy = 0.573393268589157, Loss = 36.01395091893589\n",
      "Iteration (40): Accuracy = 0.6471693444547759, Loss = 29.78580733941675\n",
      "Iteration (50): Accuracy = 0.7005706846826598, Loss = 25.277689899234392\n",
      "Iteration (60): Accuracy = 0.7310296873013056, Loss = 22.706354417208836\n",
      "Iteration (70): Accuracy = 0.7540596556385027, Loss = 20.76217471189211\n",
      "Iteration (80): Accuracy = 0.7657318680153693, Loss = 19.776811723676534\n",
      "Iteration (90): Accuracy = 0.7774668444090129, Loss = 18.78615022502206\n",
      "Iteration (100): Accuracy = 0.7918787719517371, Loss = 17.56950169851046\n",
      "Iteration (110): Accuracy = 0.8025946300667463, Loss = 16.664873712608948\n",
      "Iteration (120): Accuracy = 0.8126707635944244, Loss = 15.814250992432102\n",
      "Iteration (130): Accuracy = 0.8220231182652584, Loss = 15.024729362105246\n",
      "Iteration (140): Accuracy = 0.8295366867972447, Loss = 14.390437241486042\n",
      "Iteration (150): Accuracy = 0.8357124066498082, Loss = 13.869085712587808\n",
      "Iteration (160): Accuracy = 0.8414486216039605, Loss = 13.384836992141906\n",
      "Iteration (170): Accuracy = 0.847013080938569, Loss = 12.915087804865232\n",
      "Iteration (180): Accuracy = 0.852407172381582, Loss = 12.4597209993803\n",
      "Iteration (190): Accuracy = 0.8573786854312584, Loss = 12.040028074302034\n",
      "Iteration (200): Accuracy = 0.861507749381496, Loss = 11.69145432828255\n"
     ]
    },
    {
     "data": {
      "image/png": "[encoded data removed]",
      "text/plain": [
       "<Figure size 640x480 with 1 Axes>"
      ]
     },
     "metadata": {},
     "output_type": "display_data"
    }
   ],
   "source": [
    "W, B = BuildNeuralNetwork(X,Y,[9,9],1,200,0.01)"
   ]
  }
 ],
 "metadata": {
  "colab": {
   "provenance": []
  },
  "kernelspec": {
   "display_name": "Python 3 (ipykernel)",
   "language": "python",
   "name": "python3"
  },
  "language_info": {
   "codemirror_mode": {
    "name": "ipython",
    "version": 3
   },
   "file_extension": ".py",
   "mimetype": "text/x-python",
   "name": "python",
   "nbconvert_exporter": "python",
   "pygments_lexer": "ipython3",
   "version": "3.11.7"
  }
 },
 "nbformat": 4,
 "nbformat_minor": 4
}
